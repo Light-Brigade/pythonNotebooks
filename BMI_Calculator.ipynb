{
 "cells": [
  {
   "cell_type": "markdown",
   "id": "e614fee5",
   "metadata": {},
   "source": [
    "# BMI Calculator"
   ]
  },
  {
   "cell_type": "code",
   "execution_count": 1,
   "id": "29c84d4d",
   "metadata": {},
   "outputs": [
    {
     "name": "stdout",
     "output_type": "stream",
     "text": [
      "Please enter your name: Zak\n",
      "Please enter your weight in Kilograms: 72\n",
      "Please enter your height in Metres: 1.83\n",
      "Zak, your BMI is: 21.50\n",
      "Zak, you are Healthy Weight\n"
     ]
    }
   ],
   "source": [
    "name = input(\"Please enter your name: \")\n",
    "\n",
    "weight = float(input(\"Please enter your weight in Kilograms: \"))\n",
    "\n",
    "height = float(input(\"Please enter your height in Metres: \"))  # Corrected\n",
    "\n",
    "BMI = weight / (height * height)\n",
    "\n",
    "print(f\"{name}, your BMI is: {BMI:.2f}\")\n",
    "\n",
    "if BMI > 0:\n",
    "    if BMI < 18.5:\n",
    "        print(name + \", you are Underweight\")\n",
    "    elif BMI <= 24.9:\n",
    "        print(name + \", you are Healthy Weight\")\n",
    "    elif BMI <= 29.9:\n",
    "        print(name + \", you are Overweight\")\n",
    "    elif BMI <= 34.9:\n",
    "        print(name + \", you are Obese\")\n",
    "    elif BMI <= 39.9:\n",
    "        print(name + \", you are Severely Obese\")\n",
    "    elif BMI > 39.9:\n",
    "        print(name + \", you are Morbidly Obese\")\n",
    "else:\n",
    "    print('Error in inputs... BMI less than 0')\n"
   ]
  }
 ],
 "metadata": {
  "kernelspec": {
   "display_name": "dataManipulation",
   "language": "python",
   "name": "datamanipulation"
  },
  "language_info": {
   "codemirror_mode": {
    "name": "ipython",
    "version": 3
   },
   "file_extension": ".py",
   "mimetype": "text/x-python",
   "name": "python",
   "nbconvert_exporter": "python",
   "pygments_lexer": "ipython3",
   "version": "3.11.5"
  }
 },
 "nbformat": 4,
 "nbformat_minor": 5
}
