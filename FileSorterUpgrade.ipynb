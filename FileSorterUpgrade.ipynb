{
 "cells": [
  {
   "cell_type": "markdown",
   "id": "c432c869",
   "metadata": {},
   "source": [
    "# Improved Automatic File Sorter"
   ]
  },
  {
   "cell_type": "code",
   "execution_count": 1,
   "id": "eb8d881d",
   "metadata": {},
   "outputs": [
    {
     "name": "stdout",
     "output_type": "stream",
     "text": [
      "C:/Users/zakir/Desktop/Work/Virtual Environments/PythonFileSorter/jpg files\n",
      "C:/Users/zakir/Desktop/Work/Virtual Environments/PythonFileSorter/png files\n",
      "C:/Users/zakir/Desktop/Work/Virtual Environments/PythonFileSorter/txt files\n",
      "C:/Users/zakir/Desktop/Work/Virtual Environments/PythonFileSorter/csv files\n",
      "C:/Users/zakir/Desktop/Work/Virtual Environments/PythonFileSorter/docx files\n"
     ]
    }
   ],
   "source": [
    "import os\n",
    "import shutil\n",
    "\n",
    "path = r\"C:/Users/zakir/Desktop/Work/Virtual Environments/PythonFileSorter/\"\n",
    "file_name = os.listdir(path)\n",
    "\n",
    "# Extract unique file extensions\n",
    "unique_extensions = {os.path.splitext(file)[1][1:] for file in file_name}\n",
    "\n",
    "# Create folders based on unique file extensions\n",
    "for ext in unique_extensions:\n",
    "    folder_path = os.path.join(path, ext + \" files\")\n",
    "    if not os.path.exists(folder_path):\n",
    "        print(folder_path)\n",
    "        os.makedirs(folder_path)\n",
    "\n",
    "# Move files to corresponding folders based on their extensions\n",
    "for file in file_name:\n",
    "    extension = os.path.splitext(file)[1][1:]\n",
    "    folder_path = os.path.join(path, extension + \" files\")\n",
    "    \n",
    "    if extension and os.path.exists(folder_path) and not os.path.exists(os.path.join(folder_path, file)):\n",
    "        shutil.move(os.path.join(path, file), os.path.join(folder_path, file))\n",
    "    else:\n",
    "        print(f\"Unhandled file: {file}\")\n"
   ]
  }
 ],
 "metadata": {
  "kernelspec": {
   "display_name": "dataManipulation",
   "language": "python",
   "name": "datamanipulation"
  },
  "language_info": {
   "codemirror_mode": {
    "name": "ipython",
    "version": 3
   },
   "file_extension": ".py",
   "mimetype": "text/x-python",
   "name": "python",
   "nbconvert_exporter": "python",
   "pygments_lexer": "ipython3",
   "version": "3.11.5"
  }
 },
 "nbformat": 4,
 "nbformat_minor": 5
}
