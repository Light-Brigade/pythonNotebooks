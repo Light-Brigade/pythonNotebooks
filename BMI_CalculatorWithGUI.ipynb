{
 "cells": [
  {
   "cell_type": "markdown",
   "id": "4ca06e04",
   "metadata": {},
   "source": [
    "# BMI Calculator With GUI"
   ]
  },
  {
   "cell_type": "code",
   "execution_count": 1,
   "id": "5e90a7ba",
   "metadata": {},
   "outputs": [],
   "source": [
    "import tkinter as tk\n",
    "\n",
    "def calculate_bmi():\n",
    "    name = name_entry.get()\n",
    "    weight = float(weight_entry.get())\n",
    "    height = float(height_entry.get())\n",
    "\n",
    "    bmi = weight / (height * height)\n",
    "\n",
    "    result_label.config(text=f\"{name}, your BMI is: {bmi:.2f}\")\n",
    "\n",
    "    if bmi > 0:\n",
    "        if bmi < 18.5:\n",
    "            status_label.config(text=f\"{name}, you are Underweight\")\n",
    "        elif bmi <= 24.9:\n",
    "            status_label.config(text=f\"{name}, you are Healthy Weight\")\n",
    "        elif bmi <= 29.9:\n",
    "            status_label.config(text=f\"{name}, you are Overweight\")\n",
    "        elif bmi <= 34.9:\n",
    "            status_label.config(text=f\"{name}, you are Obese\")\n",
    "        elif bmi <= 39.9:\n",
    "            status_label.config(text=f\"{name}, you are Severely Obese\")\n",
    "        elif bmi > 39.9:\n",
    "            status_label.config(text=f\"{name}, you are Morbidly Obese\")\n",
    "    else:\n",
    "        status_label.config(text='Error in inputs... BMI less than 0')\n",
    "\n",
    "# Create the main window\n",
    "window = tk.Tk()\n",
    "window.title(\"BMI Calculator\")\n",
    "\n",
    "# Create and place widgets\n",
    "tk.Label(window, text=\"Name:\").grid(row=0, column=0, padx=10, pady=10)\n",
    "name_entry = tk.Entry(window)\n",
    "name_entry.grid(row=0, column=1, padx=10, pady=10)\n",
    "\n",
    "tk.Label(window, text=\"Weight (kg):\").grid(row=1, column=0, padx=10, pady=10)\n",
    "weight_entry = tk.Entry(window)\n",
    "weight_entry.grid(row=1, column=1, padx=10, pady=10)\n",
    "\n",
    "tk.Label(window, text=\"Height (m):\").grid(row=2, column=0, padx=10, pady=10)\n",
    "height_entry = tk.Entry(window)\n",
    "height_entry.grid(row=2, column=1, padx=10, pady=10)\n",
    "\n",
    "calculate_button = tk.Button(window, text=\"Calculate BMI\", command=calculate_bmi)\n",
    "calculate_button.grid(row=3, column=0, columnspan=2, pady=10)\n",
    "\n",
    "result_label = tk.Label(window, text=\"\")\n",
    "result_label.grid(row=4, column=0, columnspan=2, pady=10)\n",
    "\n",
    "status_label = tk.Label(window, text=\"\")\n",
    "status_label.grid(row=5, column=0, columnspan=2, pady=10)\n",
    "\n",
    "# Start the GUI event loop\n",
    "window.mainloop()"
   ]
  }
 ],
 "metadata": {
  "kernelspec": {
   "display_name": "dataManipulation",
   "language": "python",
   "name": "datamanipulation"
  },
  "language_info": {
   "codemirror_mode": {
    "name": "ipython",
    "version": 3
   },
   "file_extension": ".py",
   "mimetype": "text/x-python",
   "name": "python",
   "nbconvert_exporter": "python",
   "pygments_lexer": "ipython3",
   "version": "3.11.5"
  }
 },
 "nbformat": 4,
 "nbformat_minor": 5
}
