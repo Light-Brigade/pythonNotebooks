{
 "cells": [
  {
   "cell_type": "markdown",
   "id": "bb534eb4",
   "metadata": {},
   "source": [
    "# While Loops"
   ]
  },
  {
   "cell_type": "code",
   "execution_count": 1,
   "id": "3d1635e9",
   "metadata": {},
   "outputs": [
    {
     "name": "stdout",
     "output_type": "stream",
     "text": [
      "1\n",
      "2\n",
      "3\n",
      "4\n",
      "5\n"
     ]
    }
   ],
   "source": [
    "x=1\n",
    "\n",
    "while x <= 5:\n",
    "    print(x)\n",
    "    x = x + 1"
   ]
  },
  {
   "cell_type": "code",
   "execution_count": 2,
   "id": "e49ad47d",
   "metadata": {},
   "outputs": [
    {
     "name": "stdout",
     "output_type": "stream",
     "text": [
      "0\n",
      "1\n",
      "2\n",
      "3\n"
     ]
    }
   ],
   "source": [
    "x=0\n",
    "\n",
    "while x <= 5:\n",
    "    print(x)\n",
    "    if x == 3:\n",
    "        break\n",
    "    x = x + 1"
   ]
  },
  {
   "cell_type": "code",
   "execution_count": 3,
   "id": "59aa2d69",
   "metadata": {},
   "outputs": [
    {
     "name": "stdout",
     "output_type": "stream",
     "text": [
      "0\n",
      "1\n",
      "2\n",
      "3\n",
      "4\n",
      "5\n",
      "No longer < 5\n"
     ]
    }
   ],
   "source": [
    "x=0\n",
    "\n",
    "while x <= 5:\n",
    "    print(x)\n",
    "    if x == 6:\n",
    "        break\n",
    "    x = x + 1\n",
    "else:\n",
    "    print('No longer < 5')"
   ]
  },
  {
   "cell_type": "code",
   "execution_count": 5,
   "id": "36459295",
   "metadata": {},
   "outputs": [
    {
     "name": "stdout",
     "output_type": "stream",
     "text": [
      "1\n",
      "2\n",
      "4\n",
      "5\n",
      "No longer < 5\n"
     ]
    }
   ],
   "source": [
    "x=0\n",
    "\n",
    "while x < 5:\n",
    "    x = x + 1\n",
    "    if x == 3:\n",
    "        continue\n",
    "    print(x)\n",
    "else:\n",
    "    print('No longer < 5')"
   ]
  }
 ],
 "metadata": {
  "kernelspec": {
   "display_name": "Python 3 (ipykernel)",
   "language": "python",
   "name": "python3"
  },
  "language_info": {
   "codemirror_mode": {
    "name": "ipython",
    "version": 3
   },
   "file_extension": ".py",
   "mimetype": "text/x-python",
   "name": "python",
   "nbconvert_exporter": "python",
   "pygments_lexer": "ipython3",
   "version": "3.11.5"
  }
 },
 "nbformat": 4,
 "nbformat_minor": 5
}
