{
 "cells": [
  {
   "cell_type": "markdown",
   "id": "29d3708b",
   "metadata": {},
   "source": [
    "# For Loops"
   ]
  },
  {
   "cell_type": "code",
   "execution_count": 1,
   "id": "64e066de",
   "metadata": {},
   "outputs": [],
   "source": [
    "ints = [1,2,3,4,5]"
   ]
  },
  {
   "cell_type": "code",
   "execution_count": 2,
   "id": "692210ce",
   "metadata": {},
   "outputs": [
    {
     "name": "stdout",
     "output_type": "stream",
     "text": [
      "1\n",
      "2\n",
      "3\n",
      "4\n",
      "5\n"
     ]
    }
   ],
   "source": [
    "for number in ints:\n",
    "    print(number)"
   ]
  },
  {
   "cell_type": "code",
   "execution_count": 3,
   "id": "22d121ee",
   "metadata": {},
   "outputs": [
    {
     "name": "stdout",
     "output_type": "stream",
     "text": [
      "Yello\n",
      "Yello\n",
      "Yello\n",
      "Yello\n",
      "Yello\n"
     ]
    }
   ],
   "source": [
    "for number in ints:\n",
    "    print('Yello')"
   ]
  },
  {
   "cell_type": "code",
   "execution_count": 4,
   "id": "355bad38",
   "metadata": {},
   "outputs": [],
   "source": [
    "integers = [6,7,8,9,10]"
   ]
  },
  {
   "cell_type": "code",
   "execution_count": 5,
   "id": "14d94985",
   "metadata": {},
   "outputs": [
    {
     "name": "stdout",
     "output_type": "stream",
     "text": [
      "12\n",
      "14\n",
      "16\n",
      "18\n",
      "20\n"
     ]
    }
   ],
   "source": [
    "for Jelly in integers:\n",
    "    print(Jelly + Jelly)"
   ]
  },
  {
   "cell_type": "code",
   "execution_count": 6,
   "id": "8cd6e8e2",
   "metadata": {},
   "outputs": [],
   "source": [
    "ice_dict = {'name':'Zak','Weekly Intake':5,'Fave Flavour':['Choc','Vanilla','Mint']}"
   ]
  },
  {
   "cell_type": "code",
   "execution_count": 7,
   "id": "ba115a27",
   "metadata": {},
   "outputs": [
    {
     "name": "stdout",
     "output_type": "stream",
     "text": [
      "Zak\n",
      "5\n",
      "['Choc', 'Vanilla', 'Mint']\n"
     ]
    }
   ],
   "source": [
    "for melon in ice_dict.values():\n",
    "    print(melon)"
   ]
  },
  {
   "cell_type": "code",
   "execution_count": 8,
   "id": "86a424aa",
   "metadata": {},
   "outputs": [
    {
     "name": "stdout",
     "output_type": "stream",
     "text": [
      "name\n",
      "Weekly Intake\n",
      "Fave Flavour\n"
     ]
    }
   ],
   "source": [
    "for melon in ice_dict:\n",
    "    print(melon)"
   ]
  },
  {
   "cell_type": "code",
   "execution_count": 13,
   "id": "9f668eb4",
   "metadata": {},
   "outputs": [
    {
     "name": "stdout",
     "output_type": "stream",
     "text": [
      "name -> Zak\n",
      "Weekly Intake -> 5\n",
      "Fave Flavour -> ['Choc', 'Vanilla', 'Mint']\n"
     ]
    }
   ],
   "source": [
    "for key,value in ice_dict.items():\n",
    "    print(key, '->', value)"
   ]
  },
  {
   "cell_type": "markdown",
   "id": "a60852db",
   "metadata": {},
   "source": [
    "# Nested For Loops"
   ]
  },
  {
   "cell_type": "code",
   "execution_count": 14,
   "id": "72698567",
   "metadata": {},
   "outputs": [],
   "source": [
    "flavours = ['Vanilla','Choc','Cookie']\n",
    "toppings = ['Fudge','Oreos','Marshmallows']"
   ]
  },
  {
   "cell_type": "code",
   "execution_count": 16,
   "id": "ca0bd4ea",
   "metadata": {},
   "outputs": [
    {
     "name": "stdout",
     "output_type": "stream",
     "text": [
      "Vanilla topped with Fudge\n",
      "Vanilla topped with Oreos\n",
      "Vanilla topped with Marshmallows\n",
      "Choc topped with Fudge\n",
      "Choc topped with Oreos\n",
      "Choc topped with Marshmallows\n",
      "Cookie topped with Fudge\n",
      "Cookie topped with Oreos\n",
      "Cookie topped with Marshmallows\n"
     ]
    }
   ],
   "source": [
    "for one in flavours:\n",
    "    for two in toppings:\n",
    "        print(one,'topped with',two)"
   ]
  },
  {
   "cell_type": "code",
   "execution_count": null,
   "id": "c3a77be8",
   "metadata": {},
   "outputs": [],
   "source": []
  },
  {
   "cell_type": "code",
   "execution_count": null,
   "id": "d8edf8b9",
   "metadata": {},
   "outputs": [],
   "source": []
  }
 ],
 "metadata": {
  "kernelspec": {
   "display_name": "dataManipulation",
   "language": "python",
   "name": "datamanipulation"
  },
  "language_info": {
   "codemirror_mode": {
    "name": "ipython",
    "version": 3
   },
   "file_extension": ".py",
   "mimetype": "text/x-python",
   "name": "python",
   "nbconvert_exporter": "python",
   "pygments_lexer": "ipython3",
   "version": "3.11.5"
  }
 },
 "nbformat": 4,
 "nbformat_minor": 5
}
