{
 "cells": [
  {
   "cell_type": "markdown",
   "id": "2efb670c",
   "metadata": {},
   "source": [
    "# Data Types"
   ]
  },
  {
   "cell_type": "code",
   "execution_count": 1,
   "id": "f06ae2da",
   "metadata": {},
   "outputs": [
    {
     "data": {
      "text/plain": [
       "int"
      ]
     },
     "execution_count": 1,
     "metadata": {},
     "output_type": "execute_result"
    }
   ],
   "source": [
    "type(12 + 10)"
   ]
  },
  {
   "cell_type": "code",
   "execution_count": 2,
   "id": "8942d855",
   "metadata": {},
   "outputs": [
    {
     "data": {
      "text/plain": [
       "float"
      ]
     },
     "execution_count": 2,
     "metadata": {},
     "output_type": "execute_result"
    }
   ],
   "source": [
    "type(12 + 10.5)"
   ]
  },
  {
   "cell_type": "code",
   "execution_count": 3,
   "id": "44dd6781",
   "metadata": {},
   "outputs": [
    {
     "data": {
      "text/plain": [
       "complex"
      ]
     },
     "execution_count": 3,
     "metadata": {},
     "output_type": "execute_result"
    }
   ],
   "source": [
    "type(12 + 3j)"
   ]
  },
  {
   "cell_type": "code",
   "execution_count": 4,
   "id": "f2520f46",
   "metadata": {},
   "outputs": [
    {
     "data": {
      "text/plain": [
       "bool"
      ]
     },
     "execution_count": 4,
     "metadata": {},
     "output_type": "execute_result"
    }
   ],
   "source": [
    "type(1 < 5)"
   ]
  },
  {
   "cell_type": "code",
   "execution_count": 5,
   "id": "3b01f25d",
   "metadata": {},
   "outputs": [
    {
     "data": {
      "text/plain": [
       "True"
      ]
     },
     "execution_count": 5,
     "metadata": {},
     "output_type": "execute_result"
    }
   ],
   "source": [
    "1 < 5"
   ]
  },
  {
   "cell_type": "code",
   "execution_count": 6,
   "id": "37ca2a74",
   "metadata": {},
   "outputs": [
    {
     "data": {
      "text/plain": [
       "'Single Quote'"
      ]
     },
     "execution_count": 6,
     "metadata": {},
     "output_type": "execute_result"
    }
   ],
   "source": [
    "'Single Quote'"
   ]
  },
  {
   "cell_type": "code",
   "execution_count": 7,
   "id": "82dfea11",
   "metadata": {},
   "outputs": [
    {
     "data": {
      "text/plain": [
       "'Double Quote'"
      ]
     },
     "execution_count": 7,
     "metadata": {},
     "output_type": "execute_result"
    }
   ],
   "source": [
    "\"Double Quote\""
   ]
  },
  {
   "cell_type": "code",
   "execution_count": 8,
   "id": "770aac90",
   "metadata": {},
   "outputs": [
    {
     "name": "stdout",
     "output_type": "stream",
     "text": [
      "\n",
      "In code's embrace, algorithms dance,\n",
      "Bits and bytes, a digital trance.\n",
      "Bug hunters stalk, their arrows keen,\n",
      "In lines of logic, a coder's dream.\n",
      "\n"
     ]
    }
   ],
   "source": [
    "multiline = \"\"\"\n",
    "In code's embrace, algorithms dance,\n",
    "Bits and bytes, a digital trance.\n",
    "Bug hunters stalk, their arrows keen,\n",
    "In lines of logic, a coder's dream.\n",
    "\"\"\"\n",
    "print(multiline)"
   ]
  },
  {
   "cell_type": "code",
   "execution_count": 9,
   "id": "9c27255d",
   "metadata": {},
   "outputs": [
    {
     "name": "stdout",
     "output_type": "stream",
     "text": [
      "Hello\n",
      "W\n",
      "r\n",
      "llo\n"
     ]
    },
    {
     "data": {
      "text/plain": [
       "'Hello WorldHello WorldHello World'"
      ]
     },
     "execution_count": 9,
     "metadata": {},
     "output_type": "execute_result"
    }
   ],
   "source": [
    "q = 'Hello World'\n",
    "print(q[:5])\n",
    "print(q[6])\n",
    "print(q[-3])\n",
    "print(q[2:5])\n",
    "q*3"
   ]
  },
  {
   "cell_type": "code",
   "execution_count": 10,
   "id": "7b723cbe",
   "metadata": {},
   "outputs": [
    {
     "data": {
      "text/plain": [
       "[1, 2, 3]"
      ]
     },
     "execution_count": 10,
     "metadata": {},
     "output_type": "execute_result"
    }
   ],
   "source": [
    "[1,2,3]"
   ]
  },
  {
   "cell_type": "code",
   "execution_count": 11,
   "id": "4f363553",
   "metadata": {},
   "outputs": [
    {
     "data": {
      "text/plain": [
       "['Cookie Dough', 'Strawberry', 'Chocolate']"
      ]
     },
     "execution_count": 11,
     "metadata": {},
     "output_type": "execute_result"
    }
   ],
   "source": [
    "['Cookie Dough','Strawberry','Chocolate' ]"
   ]
  },
  {
   "cell_type": "code",
   "execution_count": 12,
   "id": "1098b26b",
   "metadata": {},
   "outputs": [
    {
     "data": {
      "text/plain": [
       "['Vanilla', 3, ['Scoops', 'Spoon'], True]"
      ]
     },
     "execution_count": 12,
     "metadata": {},
     "output_type": "execute_result"
    }
   ],
   "source": [
    "['Vanilla', 3, ['Scoops','Spoon'],True]"
   ]
  },
  {
   "cell_type": "code",
   "execution_count": 13,
   "id": "56f0c0ac",
   "metadata": {},
   "outputs": [
    {
     "data": {
      "text/plain": [
       "['Cookie Dough', 'Strawberry', 'Chocolate', 'Salted Caramel']"
      ]
     },
     "execution_count": 13,
     "metadata": {},
     "output_type": "execute_result"
    }
   ],
   "source": [
    "ice_cream_v2 = ['Cookie Dough','Strawberry','Chocolate' ]\n",
    "\n",
    "ice_cream_v2.append('Salted Caramel')\n",
    "\n",
    "ice_cream_v2"
   ]
  },
  {
   "cell_type": "code",
   "execution_count": 14,
   "id": "9a0cf854",
   "metadata": {},
   "outputs": [
    {
     "data": {
      "text/plain": [
       "['ButterScotch', 'Strawberry', 'Chocolate', 'Salted Caramel']"
      ]
     },
     "execution_count": 14,
     "metadata": {},
     "output_type": "execute_result"
    }
   ],
   "source": [
    "ice_cream_v2[0] = 'ButterScotch'\n",
    "ice_cream_v2"
   ]
  },
  {
   "cell_type": "code",
   "execution_count": 15,
   "id": "fb9d949f",
   "metadata": {},
   "outputs": [],
   "source": [
    "nested_list = ['Vanilla', 3, ['Scoops','Spoon'],True]"
   ]
  },
  {
   "cell_type": "code",
   "execution_count": 16,
   "id": "630d202e",
   "metadata": {},
   "outputs": [
    {
     "data": {
      "text/plain": [
       "['Scoops', 'Spoon']"
      ]
     },
     "execution_count": 16,
     "metadata": {},
     "output_type": "execute_result"
    }
   ],
   "source": [
    "nested_list[2]"
   ]
  },
  {
   "cell_type": "code",
   "execution_count": 17,
   "id": "bf5b96f6",
   "metadata": {},
   "outputs": [
    {
     "data": {
      "text/plain": [
       "'Spoon'"
      ]
     },
     "execution_count": 17,
     "metadata": {},
     "output_type": "execute_result"
    }
   ],
   "source": [
    "nested_list[2][1]"
   ]
  },
  {
   "cell_type": "code",
   "execution_count": 18,
   "id": "717132d7",
   "metadata": {},
   "outputs": [],
   "source": [
    "# Tuple, cannot be changed or modified after defined\n",
    "\n",
    "tuple_scoops = (1,2,3,2,1)"
   ]
  },
  {
   "cell_type": "code",
   "execution_count": 19,
   "id": "c0677549",
   "metadata": {},
   "outputs": [
    {
     "data": {
      "text/plain": [
       "tuple"
      ]
     },
     "execution_count": 19,
     "metadata": {},
     "output_type": "execute_result"
    }
   ],
   "source": [
    "type(tuple_scoops)"
   ]
  },
  {
   "cell_type": "code",
   "execution_count": 20,
   "id": "cf3226f2",
   "metadata": {},
   "outputs": [
    {
     "data": {
      "text/plain": [
       "1"
      ]
     },
     "execution_count": 20,
     "metadata": {},
     "output_type": "execute_result"
    }
   ],
   "source": [
    "tuple_scoops[0]"
   ]
  },
  {
   "cell_type": "code",
   "execution_count": 21,
   "id": "7eb24cf6",
   "metadata": {},
   "outputs": [],
   "source": [
    "# # Error\n",
    "\n",
    "# tuple_scoops.append(3)"
   ]
  },
  {
   "cell_type": "code",
   "execution_count": 22,
   "id": "d9355c5f",
   "metadata": {},
   "outputs": [],
   "source": [
    "# Sets, no duplicates and no index as the set is unordered\n",
    "\n",
    "daily_pints = {1,2,3}"
   ]
  },
  {
   "cell_type": "code",
   "execution_count": 23,
   "id": "6659f368",
   "metadata": {},
   "outputs": [
    {
     "data": {
      "text/plain": [
       "set"
      ]
     },
     "execution_count": 23,
     "metadata": {},
     "output_type": "execute_result"
    }
   ],
   "source": [
    "type(daily_pints)"
   ]
  },
  {
   "cell_type": "code",
   "execution_count": 24,
   "id": "56295ec4",
   "metadata": {},
   "outputs": [
    {
     "name": "stdout",
     "output_type": "stream",
     "text": [
      "{1, 2, 3}\n"
     ]
    }
   ],
   "source": [
    "print(daily_pints)"
   ]
  },
  {
   "cell_type": "code",
   "execution_count": 25,
   "id": "754a7a07",
   "metadata": {},
   "outputs": [
    {
     "name": "stdout",
     "output_type": "stream",
     "text": [
      "{1, 2, 3, 4, 5, 6, 31}\n"
     ]
    }
   ],
   "source": [
    "daily_pints_log = {1,2,31,1,2,3,4,1,2,5,6,3,2}\n",
    "\n",
    "print(daily_pints_log)"
   ]
  },
  {
   "cell_type": "code",
   "execution_count": 26,
   "id": "cbcb0edc",
   "metadata": {},
   "outputs": [],
   "source": [
    "wifes_daily_pints_log = {1,3,5,7,9,1,2,4,2,3,0}"
   ]
  },
  {
   "cell_type": "code",
   "execution_count": 27,
   "id": "b6e409e6",
   "metadata": {},
   "outputs": [
    {
     "name": "stdout",
     "output_type": "stream",
     "text": [
      "{0, 1, 2, 3, 4, 5, 6, 7, 9, 31}\n"
     ]
    }
   ],
   "source": [
    "print(wifes_daily_pints_log|daily_pints_log)"
   ]
  },
  {
   "cell_type": "code",
   "execution_count": 28,
   "id": "d3de7bdd",
   "metadata": {},
   "outputs": [
    {
     "name": "stdout",
     "output_type": "stream",
     "text": [
      "{1, 2, 3, 4, 5}\n"
     ]
    }
   ],
   "source": [
    "print(wifes_daily_pints_log&daily_pints_log)"
   ]
  },
  {
   "cell_type": "code",
   "execution_count": 29,
   "id": "ef7a8456",
   "metadata": {},
   "outputs": [
    {
     "name": "stdout",
     "output_type": "stream",
     "text": [
      "{0, 9, 7}\n"
     ]
    }
   ],
   "source": [
    "print(wifes_daily_pints_log-daily_pints_log)"
   ]
  },
  {
   "cell_type": "code",
   "execution_count": 30,
   "id": "91cb1f1f",
   "metadata": {},
   "outputs": [
    {
     "name": "stdout",
     "output_type": "stream",
     "text": [
      "{6, 31}\n"
     ]
    }
   ],
   "source": [
    "print(daily_pints_log-wifes_daily_pints_log)"
   ]
  },
  {
   "cell_type": "code",
   "execution_count": 31,
   "id": "bb8c97e7",
   "metadata": {},
   "outputs": [
    {
     "name": "stdout",
     "output_type": "stream",
     "text": [
      "{0, 6, 7, 9, 31}\n"
     ]
    }
   ],
   "source": [
    "print(daily_pints_log^wifes_daily_pints_log)"
   ]
  },
  {
   "cell_type": "code",
   "execution_count": 32,
   "id": "1682a4ac",
   "metadata": {},
   "outputs": [],
   "source": [
    "# Dictionairies\n",
    "# Key/Value Pair\n",
    "\n",
    "dict_cream = {'name':'Zak','Weekly Intake':5,'Fave Flavours':['Mint Choc','Chocolate','ButterScotch']}"
   ]
  },
  {
   "cell_type": "code",
   "execution_count": 33,
   "id": "ccd18a79",
   "metadata": {},
   "outputs": [
    {
     "data": {
      "text/plain": [
       "dict"
      ]
     },
     "execution_count": 33,
     "metadata": {},
     "output_type": "execute_result"
    }
   ],
   "source": [
    "type(dict_cream)"
   ]
  },
  {
   "cell_type": "code",
   "execution_count": 34,
   "id": "ae6cdc3c",
   "metadata": {},
   "outputs": [
    {
     "name": "stdout",
     "output_type": "stream",
     "text": [
      "{'name': 'Zak', 'Weekly Intake': 5, 'Fave Flavours': ['Mint Choc', 'Chocolate', 'ButterScotch']}\n"
     ]
    }
   ],
   "source": [
    "print(dict_cream)"
   ]
  },
  {
   "cell_type": "code",
   "execution_count": 35,
   "id": "39d977a3",
   "metadata": {},
   "outputs": [
    {
     "data": {
      "text/plain": [
       "dict_values(['Zak', 5, ['Mint Choc', 'Chocolate', 'ButterScotch']])"
      ]
     },
     "execution_count": 35,
     "metadata": {},
     "output_type": "execute_result"
    }
   ],
   "source": [
    "dict_cream.values()"
   ]
  },
  {
   "cell_type": "code",
   "execution_count": 36,
   "id": "c37850b9",
   "metadata": {},
   "outputs": [
    {
     "data": {
      "text/plain": [
       "dict_keys(['name', 'Weekly Intake', 'Fave Flavours'])"
      ]
     },
     "execution_count": 36,
     "metadata": {},
     "output_type": "execute_result"
    }
   ],
   "source": [
    "dict_cream.keys()"
   ]
  },
  {
   "cell_type": "code",
   "execution_count": 37,
   "id": "43eac61b",
   "metadata": {},
   "outputs": [
    {
     "data": {
      "text/plain": [
       "dict_items([('name', 'Zak'), ('Weekly Intake', 5), ('Fave Flavours', ['Mint Choc', 'Chocolate', 'ButterScotch'])])"
      ]
     },
     "execution_count": 37,
     "metadata": {},
     "output_type": "execute_result"
    }
   ],
   "source": [
    "dict_cream.items()"
   ]
  },
  {
   "cell_type": "code",
   "execution_count": 38,
   "id": "66fc9376",
   "metadata": {},
   "outputs": [
    {
     "data": {
      "text/plain": [
       "'Zak'"
      ]
     },
     "execution_count": 38,
     "metadata": {},
     "output_type": "execute_result"
    }
   ],
   "source": [
    "dict_cream['name']"
   ]
  },
  {
   "cell_type": "code",
   "execution_count": 39,
   "id": "280c1481",
   "metadata": {},
   "outputs": [
    {
     "name": "stdout",
     "output_type": "stream",
     "text": [
      "{'name': 'Bruce', 'Weekly Intake': 5, 'Fave Flavours': ['Mint Choc', 'Chocolate', 'ButterScotch']}\n"
     ]
    }
   ],
   "source": [
    "dict_cream['name'] = 'Bruce'\n",
    "print(dict_cream)"
   ]
  },
  {
   "cell_type": "code",
   "execution_count": 40,
   "id": "07820d63",
   "metadata": {},
   "outputs": [
    {
     "name": "stdout",
     "output_type": "stream",
     "text": [
      "{'name': 'Bruce', 'Weekly Intake': 10, 'Fave Flavours': ['Mint Choc', 'Chocolate', 'ButterScotch'], 'weight': 300}\n"
     ]
    }
   ],
   "source": [
    "dict_cream.update({'name': 'Bruce', 'Weekly Intake': 10,'weight':300})\n",
    "\n",
    "print(dict_cream)"
   ]
  },
  {
   "cell_type": "code",
   "execution_count": 41,
   "id": "2f31917d",
   "metadata": {},
   "outputs": [
    {
     "name": "stdout",
     "output_type": "stream",
     "text": [
      "{'name': 'Bruce', 'Weekly Intake': 10, 'Fave Flavours': ['Mint Choc', 'Chocolate', 'ButterScotch']}\n"
     ]
    }
   ],
   "source": [
    "del dict_cream['weight']\n",
    "print(dict_cream)"
   ]
  }
 ],
 "metadata": {
  "kernelspec": {
   "display_name": "dataManipulation",
   "language": "python",
   "name": "datamanipulation"
  },
  "language_info": {
   "codemirror_mode": {
    "name": "ipython",
    "version": 3
   },
   "file_extension": ".py",
   "mimetype": "text/x-python",
   "name": "python",
   "nbconvert_exporter": "python",
   "pygments_lexer": "ipython3",
   "version": "3.11.5"
  }
 },
 "nbformat": 4,
 "nbformat_minor": 5
}
