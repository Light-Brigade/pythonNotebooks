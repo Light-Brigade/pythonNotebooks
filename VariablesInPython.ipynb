{
 "cells": [
  {
   "cell_type": "markdown",
   "id": "9618a382",
   "metadata": {},
   "source": [
    "# Variables in Python"
   ]
  },
  {
   "cell_type": "code",
   "execution_count": 1,
   "id": "c9c2259c",
   "metadata": {},
   "outputs": [
    {
     "name": "stdout",
     "output_type": "stream",
     "text": [
      "22\n"
     ]
    }
   ],
   "source": [
    "x = 22\n",
    "print(x)"
   ]
  },
  {
   "cell_type": "code",
   "execution_count": 2,
   "id": "ef54bccf",
   "metadata": {},
   "outputs": [
    {
     "data": {
      "text/plain": [
       "int"
      ]
     },
     "execution_count": 2,
     "metadata": {},
     "output_type": "execute_result"
    }
   ],
   "source": [
    "type(x)"
   ]
  },
  {
   "cell_type": "code",
   "execution_count": 3,
   "id": "9fe9109f",
   "metadata": {},
   "outputs": [
    {
     "name": "stdout",
     "output_type": "stream",
     "text": [
      "Mint Choc\n"
     ]
    },
    {
     "data": {
      "text/plain": [
       "str"
      ]
     },
     "execution_count": 3,
     "metadata": {},
     "output_type": "execute_result"
    }
   ],
   "source": [
    "y = 'Mint Choc'\n",
    "print(y)\n",
    "type(y)"
   ]
  },
  {
   "cell_type": "markdown",
   "id": "b1d5fdc1",
   "metadata": {},
   "source": [
    "# We can reassign variables as such:"
   ]
  },
  {
   "cell_type": "code",
   "execution_count": 4,
   "id": "ac83fdf3",
   "metadata": {},
   "outputs": [
    {
     "name": "stdout",
     "output_type": "stream",
     "text": [
      "Choc\n",
      "Brocolli\n"
     ]
    }
   ],
   "source": [
    "y = 'Choc'\n",
    "Y = 'Brocolli'\n",
    "print(y)\n",
    "print(Y)"
   ]
  },
  {
   "cell_type": "markdown",
   "id": "6ea09262",
   "metadata": {},
   "source": [
    "# We can assign multiple variables to multiple values"
   ]
  },
  {
   "cell_type": "code",
   "execution_count": 5,
   "id": "54bb332c",
   "metadata": {},
   "outputs": [
    {
     "name": "stdout",
     "output_type": "stream",
     "text": [
      "Choc Vanilla Caramel\n",
      "Choc\n",
      "Vanilla\n",
      "Caramel\n"
     ]
    }
   ],
   "source": [
    "a,b,c = 'Choc','Vanilla','Caramel'\n",
    "print(a,b,c)\n",
    "print(a)\n",
    "print(b)\n",
    "print(c)"
   ]
  },
  {
   "cell_type": "markdown",
   "id": "ca258270",
   "metadata": {},
   "source": [
    "# We can assign multiple variables to 1 value"
   ]
  },
  {
   "cell_type": "code",
   "execution_count": 6,
   "id": "f19314aa",
   "metadata": {},
   "outputs": [
    {
     "name": "stdout",
     "output_type": "stream",
     "text": [
      "Honeycombe Honeycombe Honeycombe\n"
     ]
    }
   ],
   "source": [
    "h = i = j = 'Honeycombe'\n",
    "print(h,i,j)"
   ]
  },
  {
   "cell_type": "markdown",
   "id": "26a332a4",
   "metadata": {},
   "source": [
    "# We can create lists"
   ]
  },
  {
   "cell_type": "code",
   "execution_count": 7,
   "id": "82d79b18",
   "metadata": {},
   "outputs": [
    {
     "name": "stdout",
     "output_type": "stream",
     "text": [
      "Choc Vanilla Caramel\n"
     ]
    }
   ],
   "source": [
    "ice_cream = ['Choc','Vanilla','Caramel']\n",
    "a,b,c = ice_cream\n",
    "print(a,b,c)"
   ]
  },
  {
   "cell_type": "code",
   "execution_count": null,
   "id": "6f82c015",
   "metadata": {},
   "outputs": [],
   "source": []
  },
  {
   "cell_type": "code",
   "execution_count": null,
   "id": "f4a39af8",
   "metadata": {},
   "outputs": [],
   "source": []
  },
  {
   "cell_type": "code",
   "execution_count": null,
   "id": "a82f29ec",
   "metadata": {},
   "outputs": [],
   "source": []
  },
  {
   "cell_type": "code",
   "execution_count": null,
   "id": "ac797870",
   "metadata": {},
   "outputs": [],
   "source": []
  },
  {
   "cell_type": "code",
   "execution_count": null,
   "id": "c2e3799d",
   "metadata": {},
   "outputs": [],
   "source": []
  },
  {
   "cell_type": "code",
   "execution_count": null,
   "id": "93aefc5d",
   "metadata": {},
   "outputs": [],
   "source": []
  },
  {
   "cell_type": "code",
   "execution_count": null,
   "id": "11743036",
   "metadata": {},
   "outputs": [],
   "source": []
  },
  {
   "cell_type": "code",
   "execution_count": null,
   "id": "d6d51a16",
   "metadata": {},
   "outputs": [],
   "source": []
  }
 ],
 "metadata": {
  "kernelspec": {
   "display_name": "dataManipulation",
   "language": "python",
   "name": "datamanipulation"
  },
  "language_info": {
   "codemirror_mode": {
    "name": "ipython",
    "version": 3
   },
   "file_extension": ".py",
   "mimetype": "text/x-python",
   "name": "python",
   "nbconvert_exporter": "python",
   "pygments_lexer": "ipython3",
   "version": "3.11.5"
  }
 },
 "nbformat": 4,
 "nbformat_minor": 5
}
