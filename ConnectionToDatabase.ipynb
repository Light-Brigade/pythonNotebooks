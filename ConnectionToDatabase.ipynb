{
 "cells": [
  {
   "cell_type": "markdown",
   "id": "1ae3646f-584e-4a09-8ad1-0660f1105ddc",
   "metadata": {},
   "source": [
    "# Test Connection to Database"
   ]
  },
  {
   "cell_type": "code",
   "execution_count": 1,
   "id": "35e35eba-e62d-4718-8b21-3dc2202859f9",
   "metadata": {},
   "outputs": [],
   "source": [
    "import os\n",
    "import pymysql\n",
    "\n",
    "from dotenv import load_dotenv\n",
    "\n",
    "\n",
    "# Load the data from the .env file\n",
    "load_dotenv()\n",
    "\n",
    "# Connecting to database\n",
    "connection = pymysql.connect(\n",
    "    host=os.environ.get('HOST_NAME'),\n",
    "    port = int(os.environ.get('PORT_NUMBER')),\n",
    "    user=os.environ.get('USER_NAME'),\n",
    "    password=os.environ.get('DB_PASSWORD'),\n",
    "    database=os.environ.get('DATABASE'),\n",
    "    charset='utf8mb4'\n",
    ")\n",
    "\n",
    "# Create an object for the cursor\n",
    "cursor = connection.cursor()\n",
    "\n",
    "# Drop tables if exist\n",
    "cursor.execute(\"DROP TABLE IF EXISTS posts\")\n",
    "cursor.execute(\"DROP TABLE IF EXISTS users\")\n",
    "\n",
    "# Create the table 'users'\n",
    "cursor.execute(\"\"\"\n",
    "CREATE TABLE users (\n",
    "    author INTEGER PRIMARY KEY,\n",
    "    author_created DATE DEFAULT NULL,\n",
    "    author_comment_karma INTEGER,\n",
    "    author_post_karma INTEGER\n",
    ") DEFAULT CHARSET=utf8mb4 COLLATE=utf8mb4_unicode_ci;\n",
    "\"\"\")\n",
    "\n",
    "# Create the table 'posts'\n",
    "cursor.execute(\"\"\"\n",
    "CREATE TABLE posts (\n",
    "    post_id INTEGER AUTO_INCREMENT PRIMARY KEY,\n",
    "    title TEXT,\n",
    "    score INTEGER,\n",
    "    author INTEGER,\n",
    "    subreddit TEXT,\n",
    "    num_comments INTEGER,\n",
    "    body TEXT,\n",
    "    created DATE,\n",
    "    award INTEGER,\n",
    "    FOREIGN KEY (author) REFERENCES users (author)\n",
    ") DEFAULT CHARSET=utf8mb4 COLLATE=utf8mb4_unicode_ci;\n",
    "\"\"\")\n",
    "\n",
    "# Commit changes and close connection\n",
    "connection.commit()\n",
    "connection.close()"
   ]
  },
  {
   "cell_type": "code",
   "execution_count": null,
   "id": "ccd3823a-125b-4c47-b014-83a30815d0a8",
   "metadata": {},
   "outputs": [],
   "source": []
  },
  {
   "cell_type": "code",
   "execution_count": null,
   "id": "0cd8144e-1087-437c-8623-55c7cd6e7ae4",
   "metadata": {},
   "outputs": [],
   "source": []
  }
 ],
 "metadata": {
  "kernelspec": {
   "display_name": "dataManipulation",
   "language": "python",
   "name": "datamanipulation"
  },
  "language_info": {
   "codemirror_mode": {
    "name": "ipython",
    "version": 3
   },
   "file_extension": ".py",
   "mimetype": "text/x-python",
   "name": "python",
   "nbconvert_exporter": "python",
   "pygments_lexer": "ipython3",
   "version": "3.11.5"
  }
 },
 "nbformat": 4,
 "nbformat_minor": 5
}
